{
 "cells": [
  {
   "cell_type": "markdown",
   "metadata": {},
   "source": [
    "# Limpieza de base de datos"
   ]
  },
  {
   "cell_type": "code",
   "execution_count": 34,
   "metadata": {},
   "outputs": [],
   "source": [
    "import pandas as pd\n",
    "import numpy as np"
   ]
  },
  {
   "cell_type": "code",
   "execution_count": 1,
   "metadata": {},
   "outputs": [],
   "source": [
    "allbases = pd.read_excel(r'Base de datos1.xlsx',sheet_name=None)\n",
    "base2 = pd.read_csv(r'Base de datos2.csv')\n",
    "base3 = pd.read_csv(r'Base de datos3.csv')\n",
    "base4 = pd.read_csv(r'Base de datos4.csv')"
   ]
  },
  {
   "cell_type": "code",
   "execution_count": 6,
   "metadata": {},
   "outputs": [
    {
     "data": {
      "text/plain": [
       "11"
      ]
     },
     "execution_count": 6,
     "metadata": {},
     "output_type": "execute_result"
    }
   ],
   "source": [
    "len(allbases.keys())\n",
    "allbases.keys()"
   ]
  },
  {
   "cell_type": "code",
   "execution_count": 4,
   "metadata": {},
   "outputs": [],
   "source": [
    "base_gob_abierto= allbases['Gobierno Abierto']\n",
    "base_publico_DA=allbases['Publico Datos Abiertos']\n",
    "base_jov_univ=allbases['Jóvenes universitarios']\n",
    "base_univ=allbases['Universidades']\n",
    "base_red_fed=allbases['Red Federal']\n",
    "base_est_nac=allbases['Estado Nacional']\n",
    "base_legislatura=allbases['Legislatura']\n",
    "base_BID=allbases['BID']\n",
    "base_insc_encuentros=allbases['Inscriptos a encuentros']\n",
    "base_ssgoarcu=allbases['SSGOARCU']\n",
    "base_internacionales=allbases['Internacionales']\n"
   ]
  },
  {
   "cell_type": "code",
   "execution_count": 5,
   "metadata": {},
   "outputs": [
    {
     "name": "stdout",
     "output_type": "stream",
     "text": [
      "Index(['Apellido', 'Nombre', 'Contacto', 'Contacto 2', 'Organismo', 'ca',\n",
      "       'TAGS', 'TAGS.1'],\n",
      "      dtype='object')\n",
      "Index(['Apellido', 'Nombre', 'Correo Electrónico'], dtype='object')\n",
      "Index(['Apellido', 'Nombre', 'Correo electrónico', 'Carrera de grado ',\n",
      "       'Estudio de posgrado (Universidad)', 'Lug.nacim', 'Distrito',\n",
      "       'Ciudad de residencia', 'Nac', 'Edad, hoy', 'Link',\n",
      "       '¿En qué sector te desempeñás?', 'Empleo (puesto+institución)',\n",
      "       '¿Participás en otras instituciones? ¿En cuáles? ¿Qué rol?',\n",
      "       'En dos líneas ¿qué valor agregado le aportarías al Grupo y al CARI?',\n",
      "       '¿Sos miembro del CARI?', '¿Cómo supiste de esta convocatoria?',\n",
      "       'En caso negativo ¿te interesaría adherirte y participar en algún espacio?',\n",
      "       'En caso afirmativo ¿participás en algún espacio del Consejo?',\n",
      "       'En una palabra ¿cuál dirías que es tu profesión?',\n",
      "       '¿Querés contarnos algo más sobre vos?', 'COMO LLEGO AL CARI', 'DNI',\n",
      "       'CELULAR'],\n",
      "      dtype='object')\n",
      "Index(['Apellido', 'Nombre', 'Provincia', 'Ciudad/Municipio', 'Cargo',\n",
      "       'Contacto 1', 'Contacto 2'],\n",
      "      dtype='object')\n",
      "Index(['Apellido', 'Nombre', 'Provincia', 'Ciudad/Municipio', 'Cargo',\n",
      "       'Contacto 1', 'Contacto 2'],\n",
      "      dtype='object')\n"
     ]
    }
   ],
   "source": [
    "print(base_gob_abierto.columns)\n",
    "print(base_publico_DA.columns)\n",
    "print(base_jov_univ.columns)\n",
    "print(base_univ.columns)\n",
    "print(base_red_fed.columns)\n",
    "print(base_est_nac.columns)\n",
    "print(base_legislatura.columns)\n",
    "print(base_BID.columns)\n",
    "print(base_insc_encuentros.columns)\n",
    "print(base_ssgoarcu.columns)\n",
    "print(base_internacionales.columns)"
   ]
  },
  {
   "cell_type": "markdown",
   "metadata": {},
   "source": [
    "## Primer filtrado: Elimino aquellas filas que no tengan ni contacto 1 ni 2"
   ]
  },
  {
   "cell_type": "code",
   "execution_count": null,
   "metadata": {},
   "outputs": [],
   "source": [
    "base_gob_abierto = base_gob_abierto.dropna(subset=['Contacto','Contacto 2'],how='all')\n",
    "base_publico_DA = base_publico_DA.dropna(subset=['Correo Electrónico'],how='all')\n",
    "base_jov_univ = base_jov_univ.dropna(subset=['Correo electrónico'],how='all')\n",
    "base_univ = base_univ.dropna(subset=['Contacto 1','Contacto 2'],how='all')\n",
    "\n",
    "base_red_fed = base_red_fed.dropna(subset=['Contacto 1','Contacto 2'],how='all')"
   ]
  },
  {
   "cell_type": "code",
   "execution_count": 9,
   "metadata": {},
   "outputs": [],
   "source": [
    "base_est_nac = base_est_nac.dropna(subset=['Contacto 1','Contacto 2'],how='all')\n",
    "base_legislatura = base_legislatura.dropna(subset=['e-mail'],how='all')\n",
    "base_BID = base_BID.dropna(subset=['Contacto','Contacto 2'],how='all')\n",
    "base_insc_encuentros = base_insc_encuentros.dropna(subset=['Contacto','Contacto 2'],how='all')\n",
    "base_ssgoarcu= base_ssgoarcu.dropna(subset=['Contacto','Contacto 2'],how='all')\n",
    "base_internacionales = base_internacionales.dropna(subset=['Contacto 1','Contacto 2'],how='all')"
   ]
  },
  {
   "cell_type": "markdown",
   "metadata": {},
   "source": [
    "## Filtrado 2: Me quedo solo con las filas de apellido, nombre, contacto 1 y 2"
   ]
  },
  {
   "cell_type": "code",
   "execution_count": 10,
   "metadata": {},
   "outputs": [],
   "source": [
    "base_gob_abierto=base_gob_abierto[['Apellido', 'Nombre', 'Contacto', 'Contacto 2']]\n",
    "base_publico_DA=base_publico_DA[['Apellido', 'Nombre', 'Correo Electrónico']]\n",
    "base_jov_univ=base_jov_univ[['Apellido', 'Nombre', 'Correo electrónico']]\n",
    "base_univ=base_univ[['Apellido', 'Nombre','Contacto 1', 'Contacto 2']]\n",
    "base_red_fed=base_red_fed[['Apellido', 'Nombre','Contacto 1', 'Contacto 2']]\n",
    "base_est_nac=base_est_nac[['Apellido', 'Nombre', 'Contacto 1', 'Contacto 2']]\n",
    "base_legislatura=base_legislatura[['Apellido', 'Nombre', 'e-mail']]\n",
    "base_BID=base_BID[['Apellido', 'Nombre', 'Contacto', 'Contacto 2']]\n",
    "base_insc_encuentros=base_insc_encuentros[['Apellido', 'Nombre', 'Contacto', 'Contacto 2']]\n",
    "base_ssgoarcu=base_ssgoarcu[['Apellido', 'Nombre', 'Contacto', 'Contacto 2']]\n",
    "base_internacionales=base_internacionales[['Apellido', 'Nombre', 'Contacto 1','Contacto 2']]"
   ]
  },
  {
   "cell_type": "markdown",
   "metadata": {},
   "source": [
    "## Creo los tags para cada dataset"
   ]
  },
  {
   "cell_type": "code",
   "execution_count": 11,
   "metadata": {},
   "outputs": [],
   "source": [
    "base_gob_abierto['Tag']='Gobierno abierto'\n",
    "base_publico_DA['Tag'] = 'Público datos abiertos'\n",
    "base_jov_univ['Tag'] = 'Jóvenes universitarios'\n",
    "base_univ['Tag'] = 'Universidades'\n",
    "base_red_fed['Tag'] = 'Red federal'\n",
    "base_est_nac['Tag'] = 'Estado nacional'\n",
    "base_legislatura['Tag'] = 'Legislatura'1535DAWO\n",
    "base_BID['Tag'] = 'BID'\n",
    "base_insc_encuentros['Tag'] = 'Inscriptos a encuentros'\n",
    "base_ssgoarcu['Tag'] = 'SSGOARCU'\n",
    "base_internacionales['Tag'] = 'Internacionales'"
   ]
  },
  {
   "cell_type": "markdown",
   "metadata": {},
   "source": [
    "## Unifico los nombres de las columnas"
   ]
  },
  {
   "cell_type": "code",
   "execution_count": 12,
   "metadata": {},
   "outputs": [],
   "source": [
    "base_gob_abierto.columns=['Apellido', 'Nombre', 'Contacto', 'Contacto 2','Tag']\n",
    "base_publico_DA.columns=['Apellido', 'Nombre', 'Contacto','Tag']\n",
    "base_univ.columns=['Apellido', 'Nombre','Contacto', 'Contacto 2','Tag']\n",
    "base_jov_univ.columns=['Apellido', 'Nombre', 'Contacto','Tag']\n",
    "base_red_fed.columns = ['Apellido', 'Nombre','Contacto', 'Contacto 2','Tag']\n",
    "base_est_nac.columns=['Apellido', 'Nombre', 'Contacto', 'Contacto 2','Tag']\n",
    "base_legislatura.columns=['Apellido', 'Nombre', 'Contacto','Tag']\n",
    "base_BID.columns = ['Apellido', 'Nombre', 'Contacto', 'Contacto 2','Tag']\n",
    "base_insc_encuentros.columns = ['Apellido', 'Nombre', 'Contacto', 'Contacto 2','Tag']\n",
    "base_ssgoarcu.columns = ['Apellido', 'Nombre', 'Contacto', 'Contacto 2','Tag']\n",
    "base_internacionales.columns = ['Apellido', 'Nombre', 'Contacto','Contacto 2','Tag']"
   ]
  },
  {
   "cell_type": "markdown",
   "metadata": {},
   "source": [
    "## Concanteno los datasets ahora que tienen columnas en mismo orden y con el mismo nombre"
   ]
  },
  {
   "cell_type": "code",
   "execution_count": 13,
   "metadata": {},
   "outputs": [],
   "source": [
    "base1= pd.concat([base_gob_abierto,\n",
    "          base_publico_DA,\n",
    "          base_jov_univ,base_univ,\n",
    "          base_red_fed,\n",
    "          base_est_nac,\n",
    "          base_legislatura,\n",
    "          base_BID,\n",
    "          base_insc_encuentros,\n",
    "          base_ssgoarcu,\n",
    "          base_internacionales],join='outer',axis=0)"
   ]
  },
  {
   "cell_type": "markdown",
   "metadata": {},
   "source": [
    "## Agarro las bases de mailchimp antiguas y lo concateno al nuevo dataset"
   ]
  },
  {
   "cell_type": "code",
   "execution_count": 14,
   "metadata": {},
   "outputs": [],
   "source": [
    "base2= base2[['Dirección de email', 'Nombre', 'Apellido','TAGS']]\n",
    "base3= base3[['Dirección de email', 'Nombre', 'Apellido','TAGS']]\n",
    "base4= base4[['Dirección de email', 'Nombre', 'Apellido','TAGS']]\n",
    "\n",
    "base2.columns = ['Contacto', 'Nombre', 'Apellido', 'Tag']\n",
    "base3.columns = ['Contacto', 'Nombre', 'Apellido', 'Tag']\n",
    "base4.columns = ['Contacto', 'Nombre', 'Apellido', 'Tag']"
   ]
  },
  {
   "cell_type": "markdown",
   "metadata": {},
   "source": [
    "## Base consolidada:"
   ]
  },
  {
   "cell_type": "code",
   "execution_count": 15,
   "metadata": {},
   "outputs": [
    {
     "data": {
      "text/html": [
       "<div>\n",
       "<style scoped>\n",
       "    .dataframe tbody tr th:only-of-type {\n",
       "        vertical-align: middle;\n",
       "    }\n",
       "\n",
       "    .dataframe tbody tr th {\n",
       "        vertical-align: top;\n",
       "    }\n",
       "\n",
       "    .dataframe thead th {\n",
       "        text-align: right;\n",
       "    }\n",
       "</style>\n",
       "<table border=\"1\" class=\"dataframe\">\n",
       "  <thead>\n",
       "    <tr style=\"text-align: right;\">\n",
       "      <th></th>\n",
       "      <th>Apellido</th>\n",
       "      <th>Nombre</th>\n",
       "      <th>Contacto</th>\n",
       "      <th>Contacto 2</th>\n",
       "      <th>Tag</th>\n",
       "    </tr>\n",
       "  </thead>\n",
       "  <tbody>\n",
       "    <tr>\n",
       "      <th>0</th>\n",
       "      <td>Acebal</td>\n",
       "      <td>Victoria</td>\n",
       "      <td>vacebal@buenosaires.gob.ar</td>\n",
       "      <td>NaN</td>\n",
       "      <td>Gobierno abierto</td>\n",
       "    </tr>\n",
       "    <tr>\n",
       "      <th>1</th>\n",
       "      <td>Acevedo Ruiz</td>\n",
       "      <td>Manuel</td>\n",
       "      <td>manuel@manuelacevedo.net</td>\n",
       "      <td>NaN</td>\n",
       "      <td>Gobierno abierto</td>\n",
       "    </tr>\n",
       "    <tr>\n",
       "      <th>2</th>\n",
       "      <td>Acion</td>\n",
       "      <td>Laura</td>\n",
       "      <td>lacion@fundacionsadosky.org.ar</td>\n",
       "      <td>NaN</td>\n",
       "      <td>Gobierno abierto</td>\n",
       "    </tr>\n",
       "    <tr>\n",
       "      <th>3</th>\n",
       "      <td>Acosta</td>\n",
       "      <td>Julio Alberto</td>\n",
       "      <td>jaacosta@gmail.com</td>\n",
       "      <td>jaacosta1964@gmail.com</td>\n",
       "      <td>Gobierno abierto</td>\n",
       "    </tr>\n",
       "    <tr>\n",
       "      <th>4</th>\n",
       "      <td>Acuña</td>\n",
       "      <td>Hugo</td>\n",
       "      <td>teomac31@yahoo.com.ar</td>\n",
       "      <td>NaN</td>\n",
       "      <td>Gobierno abierto</td>\n",
       "    </tr>\n",
       "    <tr>\n",
       "      <th>...</th>\n",
       "      <td>...</td>\n",
       "      <td>...</td>\n",
       "      <td>...</td>\n",
       "      <td>...</td>\n",
       "      <td>...</td>\n",
       "    </tr>\n",
       "    <tr>\n",
       "      <th>11</th>\n",
       "      <td>Goldstein</td>\n",
       "      <td>Patricio</td>\n",
       "      <td>patriciogoldstein1@gmail.com</td>\n",
       "      <td>NaN</td>\n",
       "      <td>\"Estudiantes universitarios\"</td>\n",
       "    </tr>\n",
       "    <tr>\n",
       "      <th>12</th>\n",
       "      <td>Grané</td>\n",
       "      <td>Patricio</td>\n",
       "      <td>patricio.grane@gmail.com</td>\n",
       "      <td>NaN</td>\n",
       "      <td>\"Estudiantes universitarios\"</td>\n",
       "    </tr>\n",
       "    <tr>\n",
       "      <th>13</th>\n",
       "      <td>NaN</td>\n",
       "      <td>NaN</td>\n",
       "      <td>reciclandohogares@hpha.org.ar</td>\n",
       "      <td>NaN</td>\n",
       "      <td>\"OSC\"</td>\n",
       "    </tr>\n",
       "    <tr>\n",
       "      <th>14</th>\n",
       "      <td>Ruiz Martinez</td>\n",
       "      <td>Victoria</td>\n",
       "      <td>victoriaruizma@gmail.com</td>\n",
       "      <td>NaN</td>\n",
       "      <td>\"Estudiantes universitarios\"</td>\n",
       "    </tr>\n",
       "    <tr>\n",
       "      <th>15</th>\n",
       "      <td>ABADIE</td>\n",
       "      <td>LUCILLE</td>\n",
       "      <td>lucilleabadie@gmail.com</td>\n",
       "      <td>NaN</td>\n",
       "      <td>\"Estudiantes universitarios\"</td>\n",
       "    </tr>\n",
       "  </tbody>\n",
       "</table>\n",
       "<p>5563 rows × 5 columns</p>\n",
       "</div>"
      ],
      "text/plain": [
       "         Apellido         Nombre                        Contacto  \\\n",
       "0          Acebal       Victoria      vacebal@buenosaires.gob.ar   \n",
       "1    Acevedo Ruiz         Manuel        manuel@manuelacevedo.net   \n",
       "2           Acion          Laura  lacion@fundacionsadosky.org.ar   \n",
       "3          Acosta  Julio Alberto              jaacosta@gmail.com   \n",
       "4           Acuña           Hugo           teomac31@yahoo.com.ar   \n",
       "..            ...            ...                             ...   \n",
       "11      Goldstein       Patricio    patriciogoldstein1@gmail.com   \n",
       "12          Grané       Patricio        patricio.grane@gmail.com   \n",
       "13            NaN            NaN   reciclandohogares@hpha.org.ar   \n",
       "14  Ruiz Martinez       Victoria        victoriaruizma@gmail.com   \n",
       "15         ABADIE        LUCILLE         lucilleabadie@gmail.com   \n",
       "\n",
       "                Contacto 2                           Tag  \n",
       "0                      NaN              Gobierno abierto  \n",
       "1                      NaN              Gobierno abierto  \n",
       "2                      NaN              Gobierno abierto  \n",
       "3   jaacosta1964@gmail.com              Gobierno abierto  \n",
       "4                      NaN              Gobierno abierto  \n",
       "..                     ...                           ...  \n",
       "11                     NaN  \"Estudiantes universitarios\"  \n",
       "12                     NaN  \"Estudiantes universitarios\"  \n",
       "13                     NaN                         \"OSC\"  \n",
       "14                     NaN  \"Estudiantes universitarios\"  \n",
       "15                     NaN  \"Estudiantes universitarios\"  \n",
       "\n",
       "[5563 rows x 5 columns]"
      ]
     },
     "execution_count": 15,
     "metadata": {},
     "output_type": "execute_result"
    }
   ],
   "source": [
    "bases = pd.concat([base1,base2,base3,base4],axis=0)\n",
    "bases"
   ]
  },
  {
   "cell_type": "markdown",
   "metadata": {},
   "source": [
    "## De la base consolidada, elimino los duplicados que tienen el mismo nombre, apellido y mail (puede haber duplicados de misma persona con diferente mailO)"
   ]
  },
  {
   "cell_type": "code",
   "execution_count": 16,
   "metadata": {},
   "outputs": [
    {
     "data": {
      "text/html": [
       "<div>\n",
       "<style scoped>\n",
       "    .dataframe tbody tr th:only-of-type {\n",
       "        vertical-align: middle;\n",
       "    }\n",
       "\n",
       "    .dataframe tbody tr th {\n",
       "        vertical-align: top;\n",
       "    }\n",
       "\n",
       "    .dataframe thead th {\n",
       "        text-align: right;\n",
       "    }\n",
       "</style>\n",
       "<table border=\"1\" class=\"dataframe\">\n",
       "  <thead>\n",
       "    <tr style=\"text-align: right;\">\n",
       "      <th></th>\n",
       "      <th>Apellido</th>\n",
       "      <th>Nombre</th>\n",
       "      <th>Contacto</th>\n",
       "      <th>Contacto 2</th>\n",
       "      <th>Tag</th>\n",
       "    </tr>\n",
       "  </thead>\n",
       "  <tbody>\n",
       "    <tr>\n",
       "      <th>0</th>\n",
       "      <td>Acebal</td>\n",
       "      <td>Victoria</td>\n",
       "      <td>vacebal@buenosaires.gob.ar</td>\n",
       "      <td>NaN</td>\n",
       "      <td>Gobierno abierto</td>\n",
       "    </tr>\n",
       "    <tr>\n",
       "      <th>2</th>\n",
       "      <td>Acion</td>\n",
       "      <td>Laura</td>\n",
       "      <td>lacion@fundacionsadosky.org.ar</td>\n",
       "      <td>NaN</td>\n",
       "      <td>Gobierno abierto</td>\n",
       "    </tr>\n",
       "    <tr>\n",
       "      <th>6</th>\n",
       "      <td>Adan</td>\n",
       "      <td>Graciela</td>\n",
       "      <td>graadan@gmail.com</td>\n",
       "      <td>NaN</td>\n",
       "      <td>Gobierno abierto</td>\n",
       "    </tr>\n",
       "    <tr>\n",
       "      <th>8</th>\n",
       "      <td>Agüero</td>\n",
       "      <td>Sandra</td>\n",
       "      <td>dimensiongeneroucpe@gmail.com</td>\n",
       "      <td>shaguero2003@yahoo.com.ar</td>\n",
       "      <td>Gobierno abierto</td>\n",
       "    </tr>\n",
       "    <tr>\n",
       "      <th>10</th>\n",
       "      <td>Agunin</td>\n",
       "      <td>Julieta</td>\n",
       "      <td>fundacion@irsa.org.ar</td>\n",
       "      <td>NaN</td>\n",
       "      <td>Gobierno abierto</td>\n",
       "    </tr>\n",
       "    <tr>\n",
       "      <th>...</th>\n",
       "      <td>...</td>\n",
       "      <td>...</td>\n",
       "      <td>...</td>\n",
       "      <td>...</td>\n",
       "      <td>...</td>\n",
       "    </tr>\n",
       "    <tr>\n",
       "      <th>3</th>\n",
       "      <td>Rojas</td>\n",
       "      <td>Alfredo</td>\n",
       "      <td>rojas.ag@gmail.com</td>\n",
       "      <td>NaN</td>\n",
       "      <td>\"Semana de Gobierno Abierto\",\"-\"</td>\n",
       "    </tr>\n",
       "    <tr>\n",
       "      <th>8</th>\n",
       "      <td>Molina</td>\n",
       "      <td>Anabella</td>\n",
       "      <td>anabella.anilom@gmail.com</td>\n",
       "      <td>NaN</td>\n",
       "      <td>\"Academia\",\"Semana de Gobierno Abierto\"</td>\n",
       "    </tr>\n",
       "    <tr>\n",
       "      <th>9</th>\n",
       "      <td>Gregori</td>\n",
       "      <td>Alejandro</td>\n",
       "      <td>alejandrogregori@gmail.com</td>\n",
       "      <td>NaN</td>\n",
       "      <td>\"Ejecutivo\"</td>\n",
       "    </tr>\n",
       "    <tr>\n",
       "      <th>11</th>\n",
       "      <td>Goldstein</td>\n",
       "      <td>Patricio</td>\n",
       "      <td>patriciogoldstein1@gmail.com</td>\n",
       "      <td>NaN</td>\n",
       "      <td>\"Estudiantes universitarios\"</td>\n",
       "    </tr>\n",
       "    <tr>\n",
       "      <th>12</th>\n",
       "      <td>Grané</td>\n",
       "      <td>Patricio</td>\n",
       "      <td>patricio.grane@gmail.com</td>\n",
       "      <td>NaN</td>\n",
       "      <td>\"Estudiantes universitarios\"</td>\n",
       "    </tr>\n",
       "  </tbody>\n",
       "</table>\n",
       "<p>2860 rows × 5 columns</p>\n",
       "</div>"
      ],
      "text/plain": [
       "     Apellido     Nombre                        Contacto  \\\n",
       "0      Acebal   Victoria      vacebal@buenosaires.gob.ar   \n",
       "2       Acion      Laura  lacion@fundacionsadosky.org.ar   \n",
       "6        Adan   Graciela               graadan@gmail.com   \n",
       "8      Agüero     Sandra   dimensiongeneroucpe@gmail.com   \n",
       "10     Agunin    Julieta           fundacion@irsa.org.ar   \n",
       "..        ...        ...                             ...   \n",
       "3       Rojas    Alfredo              rojas.ag@gmail.com   \n",
       "8      Molina   Anabella       anabella.anilom@gmail.com   \n",
       "9     Gregori  Alejandro      alejandrogregori@gmail.com   \n",
       "11  Goldstein   Patricio    patriciogoldstein1@gmail.com   \n",
       "12      Grané   Patricio        patricio.grane@gmail.com   \n",
       "\n",
       "                   Contacto 2                                      Tag  \n",
       "0                         NaN                         Gobierno abierto  \n",
       "2                         NaN                         Gobierno abierto  \n",
       "6                         NaN                         Gobierno abierto  \n",
       "8   shaguero2003@yahoo.com.ar                         Gobierno abierto  \n",
       "10                        NaN                         Gobierno abierto  \n",
       "..                        ...                                      ...  \n",
       "3                         NaN         \"Semana de Gobierno Abierto\",\"-\"  \n",
       "8                         NaN  \"Academia\",\"Semana de Gobierno Abierto\"  \n",
       "9                         NaN                              \"Ejecutivo\"  \n",
       "11                        NaN             \"Estudiantes universitarios\"  \n",
       "12                        NaN             \"Estudiantes universitarios\"  \n",
       "\n",
       "[2860 rows x 5 columns]"
      ]
     },
     "execution_count": 16,
     "metadata": {},
     "output_type": "execute_result"
    }
   ],
   "source": [
    "bases[bases.duplicated(['Apellido','Nombre','Contacto'],keep=False)]"
   ]
  },
  {
   "cell_type": "markdown",
   "metadata": {},
   "source": [
    "## Elimino duplicados de apellido, nombre y contacto"
   ]
  },
  {
   "cell_type": "code",
   "execution_count": 17,
   "metadata": {},
   "outputs": [
    {
     "data": {
      "text/plain": [
       "(4006, 5)"
      ]
     },
     "execution_count": 17,
     "metadata": {},
     "output_type": "execute_result"
    }
   ],
   "source": [
    "bases_clean = bases.drop_duplicates(subset=['Apellido','Nombre','Contacto'],keep='first')\n",
    "bases_clean.shape"
   ]
  },
  {
   "cell_type": "markdown",
   "metadata": {},
   "source": [
    "### Elimino filas con contactos nulos"
   ]
  },
  {
   "cell_type": "code",
   "execution_count": 19,
   "metadata": {},
   "outputs": [],
   "source": [
    "bases_clean = bases_clean.dropna(subset=['Contacto'],axis=0)"
   ]
  },
  {
   "cell_type": "markdown",
   "metadata": {},
   "source": [
    "Hay gente sin nombre ni apellido > eliminar? <br>\n",
    "Hay gente que en contacto tiene un nro de tel > hago regex con mails y elimino las filas"
   ]
  },
  {
   "cell_type": "code",
   "execution_count": 20,
   "metadata": {},
   "outputs": [],
   "source": [
    "bases_clean = bases_clean.reset_index(drop= True)"
   ]
  },
  {
   "cell_type": "code",
   "execution_count": 21,
   "metadata": {},
   "outputs": [],
   "source": [
    "bases_clean.Contacto = bases_clean.Contacto.apply(lambda x: str(x).replace(' ',''))"
   ]
  },
  {
   "cell_type": "code",
   "execution_count": 22,
   "metadata": {},
   "outputs": [],
   "source": [
    "import re\n",
    "pattern = '(^[ a-zA-Z0-9_.+-]+@[a-zA-Z0-9-]+\\.[a-zA-Z0-9-. ]+)[^a-zA-Z0-9-. ]?$'\n",
    "regex = re.compile(pattern)\n",
    "bases_clean['isemail'] = bases_clean.Contacto.str.match(regex)"
   ]
  },
  {
   "cell_type": "code",
   "execution_count": 23,
   "metadata": {},
   "outputs": [
    {
     "name": "stderr",
     "output_type": "stream",
     "text": [
      "C:\\Users\\Agust\\miniconda3\\envs\\dhdsblend\\lib\\site-packages\\ipykernel_launcher.py:2: SettingWithCopyWarning: \n",
      "A value is trying to be set on a copy of a slice from a DataFrame.\n",
      "Try using .loc[row_indexer,col_indexer] = value instead\n",
      "\n",
      "See the caveats in the documentation: https://pandas.pydata.org/pandas-docs/stable/user_guide/indexing.html#returning-a-view-versus-a-copy\n",
      "  \n"
     ]
    },
    {
     "data": {
      "text/html": [
       "<div>\n",
       "<style scoped>\n",
       "    .dataframe tbody tr th:only-of-type {\n",
       "        vertical-align: middle;\n",
       "    }\n",
       "\n",
       "    .dataframe tbody tr th {\n",
       "        vertical-align: top;\n",
       "    }\n",
       "\n",
       "    .dataframe thead th {\n",
       "        text-align: right;\n",
       "    }\n",
       "</style>\n",
       "<table border=\"1\" class=\"dataframe\">\n",
       "  <thead>\n",
       "    <tr style=\"text-align: right;\">\n",
       "      <th></th>\n",
       "      <th>Apellido</th>\n",
       "      <th>Nombre</th>\n",
       "      <th>Contacto</th>\n",
       "      <th>Contacto 2</th>\n",
       "      <th>Tag</th>\n",
       "      <th>isemail</th>\n",
       "    </tr>\n",
       "  </thead>\n",
       "  <tbody>\n",
       "    <tr>\n",
       "      <th>0</th>\n",
       "      <td>Acebal</td>\n",
       "      <td>Victoria</td>\n",
       "      <td>vacebal@buenosaires.gob.ar</td>\n",
       "      <td>NaN</td>\n",
       "      <td>Gobierno abierto</td>\n",
       "      <td>True</td>\n",
       "    </tr>\n",
       "    <tr>\n",
       "      <th>1</th>\n",
       "      <td>Acevedo Ruiz</td>\n",
       "      <td>Manuel</td>\n",
       "      <td>manuel@manuelacevedo.net</td>\n",
       "      <td>NaN</td>\n",
       "      <td>Gobierno abierto</td>\n",
       "      <td>True</td>\n",
       "    </tr>\n",
       "    <tr>\n",
       "      <th>2</th>\n",
       "      <td>Acion</td>\n",
       "      <td>Laura</td>\n",
       "      <td>lacion@fundacionsadosky.org.ar</td>\n",
       "      <td>NaN</td>\n",
       "      <td>Gobierno abierto</td>\n",
       "      <td>True</td>\n",
       "    </tr>\n",
       "    <tr>\n",
       "      <th>3</th>\n",
       "      <td>Acosta</td>\n",
       "      <td>Julio Alberto</td>\n",
       "      <td>jaacosta@gmail.com</td>\n",
       "      <td>jaacosta1964@gmail.com</td>\n",
       "      <td>Gobierno abierto</td>\n",
       "      <td>True</td>\n",
       "    </tr>\n",
       "    <tr>\n",
       "      <th>4</th>\n",
       "      <td>Acuña</td>\n",
       "      <td>Hugo</td>\n",
       "      <td>teomac31@yahoo.com.ar</td>\n",
       "      <td>NaN</td>\n",
       "      <td>Gobierno abierto</td>\n",
       "      <td>True</td>\n",
       "    </tr>\n",
       "    <tr>\n",
       "      <th>...</th>\n",
       "      <td>...</td>\n",
       "      <td>...</td>\n",
       "      <td>...</td>\n",
       "      <td>...</td>\n",
       "      <td>...</td>\n",
       "      <td>...</td>\n",
       "    </tr>\n",
       "    <tr>\n",
       "      <th>3987</th>\n",
       "      <td>NaN</td>\n",
       "      <td>NaN</td>\n",
       "      <td>asosa@hpha.org.ar</td>\n",
       "      <td>NaN</td>\n",
       "      <td>\"OSC\"</td>\n",
       "      <td>True</td>\n",
       "    </tr>\n",
       "    <tr>\n",
       "      <th>3988</th>\n",
       "      <td>NaN</td>\n",
       "      <td>NaN</td>\n",
       "      <td>cecilia.suarez@techo.org</td>\n",
       "      <td>NaN</td>\n",
       "      <td>\"OSC\"</td>\n",
       "      <td>True</td>\n",
       "    </tr>\n",
       "    <tr>\n",
       "      <th>3989</th>\n",
       "      <td>NaN</td>\n",
       "      <td>NaN</td>\n",
       "      <td>reciclandohogares@hpha.org.ar</td>\n",
       "      <td>NaN</td>\n",
       "      <td>\"OSC\"</td>\n",
       "      <td>True</td>\n",
       "    </tr>\n",
       "    <tr>\n",
       "      <th>3990</th>\n",
       "      <td>Ruiz Martinez</td>\n",
       "      <td>Victoria</td>\n",
       "      <td>victoriaruizma@gmail.com</td>\n",
       "      <td>NaN</td>\n",
       "      <td>\"Estudiantes universitarios\"</td>\n",
       "      <td>True</td>\n",
       "    </tr>\n",
       "    <tr>\n",
       "      <th>3991</th>\n",
       "      <td>ABADIE</td>\n",
       "      <td>LUCILLE</td>\n",
       "      <td>lucilleabadie@gmail.com</td>\n",
       "      <td>NaN</td>\n",
       "      <td>\"Estudiantes universitarios\"</td>\n",
       "      <td>True</td>\n",
       "    </tr>\n",
       "  </tbody>\n",
       "</table>\n",
       "<p>3936 rows × 6 columns</p>\n",
       "</div>"
      ],
      "text/plain": [
       "           Apellido         Nombre                        Contacto  \\\n",
       "0            Acebal       Victoria      vacebal@buenosaires.gob.ar   \n",
       "1      Acevedo Ruiz         Manuel        manuel@manuelacevedo.net   \n",
       "2             Acion          Laura  lacion@fundacionsadosky.org.ar   \n",
       "3            Acosta  Julio Alberto              jaacosta@gmail.com   \n",
       "4             Acuña           Hugo           teomac31@yahoo.com.ar   \n",
       "...             ...            ...                             ...   \n",
       "3987            NaN            NaN               asosa@hpha.org.ar   \n",
       "3988            NaN            NaN        cecilia.suarez@techo.org   \n",
       "3989            NaN            NaN   reciclandohogares@hpha.org.ar   \n",
       "3990  Ruiz Martinez       Victoria        victoriaruizma@gmail.com   \n",
       "3991         ABADIE        LUCILLE         lucilleabadie@gmail.com   \n",
       "\n",
       "                  Contacto 2                           Tag  isemail  \n",
       "0                        NaN              Gobierno abierto     True  \n",
       "1                        NaN              Gobierno abierto     True  \n",
       "2                        NaN              Gobierno abierto     True  \n",
       "3     jaacosta1964@gmail.com              Gobierno abierto     True  \n",
       "4                        NaN              Gobierno abierto     True  \n",
       "...                      ...                           ...      ...  \n",
       "3987                     NaN                         \"OSC\"     True  \n",
       "3988                     NaN                         \"OSC\"     True  \n",
       "3989                     NaN                         \"OSC\"     True  \n",
       "3990                     NaN  \"Estudiantes universitarios\"     True  \n",
       "3991                     NaN  \"Estudiantes universitarios\"     True  \n",
       "\n",
       "[3936 rows x 6 columns]"
      ]
     },
     "execution_count": 23,
     "metadata": {},
     "output_type": "execute_result"
    }
   ],
   "source": [
    "bases_final = bases_clean[bases_clean.isemail == True]\n",
    "bases_final['Contacto'] = bases_final.Contacto.apply(lambda x: x.lower())\n",
    "# bases_clean.iloc[2419]\n",
    "bases_final"
   ]
  },
  {
   "cell_type": "markdown",
   "metadata": {},
   "source": [
    "## Elimino filas que no tengan el nombre o el apellido"
   ]
  },
  {
   "cell_type": "code",
   "execution_count": 24,
   "metadata": {},
   "outputs": [
    {
     "name": "stdout",
     "output_type": "stream",
     "text": [
      "<class 'pandas.core.frame.DataFrame'>\n",
      "Int64Index: 3341 entries, 0 to 3991\n",
      "Data columns (total 6 columns):\n",
      " #   Column      Non-Null Count  Dtype \n",
      "---  ------      --------------  ----- \n",
      " 0   Apellido    3341 non-null   object\n",
      " 1   Nombre      3341 non-null   object\n",
      " 2   Contacto    3341 non-null   object\n",
      " 3   Contacto 2  235 non-null    object\n",
      " 4   Tag         3338 non-null   object\n",
      " 5   isemail     3341 non-null   bool  \n",
      "dtypes: bool(1), object(5)\n",
      "memory usage: 159.9+ KB\n"
     ]
    }
   ],
   "source": [
    "base_final = bases_final.dropna(subset=['Nombre','Apellido'],axis=0,how='any')\n",
    "base_final.info()"
   ]
  },
  {
   "cell_type": "markdown",
   "metadata": {},
   "source": [
    "## Elimino duplicados de nombre, apellido contacto"
   ]
  },
  {
   "cell_type": "code",
   "execution_count": 26,
   "metadata": {},
   "outputs": [],
   "source": [
    "base_final= base_final.drop_duplicates(['Nombre','Apellido','Contacto'])"
   ]
  },
  {
   "cell_type": "code",
   "execution_count": 27,
   "metadata": {},
   "outputs": [],
   "source": [
    "# base_final = base_final.drop(labels='index',axis=1)\n",
    "base_final.Apellido=base_final.Apellido.apply(lambda x: x.title())\n",
    "base_final.Nombre=base_final.Nombre.apply(lambda x: x.title())"
   ]
  },
  {
   "cell_type": "markdown",
   "metadata": {},
   "source": [
    "## Creo el excel con la base final"
   ]
  },
  {
   "cell_type": "code",
   "execution_count": 28,
   "metadata": {},
   "outputs": [],
   "source": [
    "base_final.to_excel('Base_Newsletter.xlsx',index=False)"
   ]
  },
  {
   "cell_type": "code",
   "execution_count": 29,
   "metadata": {},
   "outputs": [
    {
     "data": {
      "text/plain": [
       "(3295, 6)"
      ]
     },
     "execution_count": 29,
     "metadata": {},
     "output_type": "execute_result"
    }
   ],
   "source": [
    "base_final.shape"
   ]
  },
  {
   "cell_type": "code",
   "execution_count": 40,
   "metadata": {},
   "outputs": [
    {
     "data": {
      "text/html": [
       "<div>\n",
       "<style scoped>\n",
       "    .dataframe tbody tr th:only-of-type {\n",
       "        vertical-align: middle;\n",
       "    }\n",
       "\n",
       "    .dataframe tbody tr th {\n",
       "        vertical-align: top;\n",
       "    }\n",
       "\n",
       "    .dataframe thead th {\n",
       "        text-align: right;\n",
       "    }\n",
       "</style>\n",
       "<table border=\"1\" class=\"dataframe\">\n",
       "  <thead>\n",
       "    <tr style=\"text-align: right;\">\n",
       "      <th></th>\n",
       "      <th>Apellido</th>\n",
       "      <th>Nombre</th>\n",
       "      <th>Contacto</th>\n",
       "      <th>Contacto 2</th>\n",
       "      <th>Tag</th>\n",
       "      <th>isemail</th>\n",
       "    </tr>\n",
       "  </thead>\n",
       "  <tbody>\n",
       "    <tr>\n",
       "      <th>3410</th>\n",
       "      <td>Costilla</td>\n",
       "      <td>María Inés</td>\n",
       "      <td>mariainescostila@yahoo.com.ar</td>\n",
       "      <td>NaN</td>\n",
       "      <td>NaN</td>\n",
       "      <td>True</td>\n",
       "    </tr>\n",
       "    <tr>\n",
       "      <th>3468</th>\n",
       "      <td>Casaretto</td>\n",
       "      <td>Ezequiel</td>\n",
       "      <td>ezequiel.casaretto.gcaba@gmail.com</td>\n",
       "      <td>NaN</td>\n",
       "      <td>NaN</td>\n",
       "      <td>True</td>\n",
       "    </tr>\n",
       "    <tr>\n",
       "      <th>3980</th>\n",
       "      <td>Belver</td>\n",
       "      <td>Violeta</td>\n",
       "      <td>violeta.belver@gmail.com</td>\n",
       "      <td>NaN</td>\n",
       "      <td>NaN</td>\n",
       "      <td>True</td>\n",
       "    </tr>\n",
       "  </tbody>\n",
       "</table>\n",
       "</div>"
      ],
      "text/plain": [
       "       Apellido      Nombre                            Contacto Contacto 2  \\\n",
       "3410   Costilla  María Inés       mariainescostila@yahoo.com.ar        NaN   \n",
       "3468  Casaretto    Ezequiel  ezequiel.casaretto.gcaba@gmail.com        NaN   \n",
       "3980     Belver     Violeta            violeta.belver@gmail.com        NaN   \n",
       "\n",
       "      Tag  isemail  \n",
       "3410  NaN     True  \n",
       "3468  NaN     True  \n",
       "3980  NaN     True  "
      ]
     },
     "execution_count": 40,
     "metadata": {},
     "output_type": "execute_result"
    }
   ],
   "source": [
    "base_final[base_final.Tag.isnull()]"
   ]
  },
  {
   "cell_type": "code",
   "execution_count": 41,
   "metadata": {},
   "outputs": [
    {
     "data": {
      "text/html": [
       "<div>\n",
       "<style scoped>\n",
       "    .dataframe tbody tr th:only-of-type {\n",
       "        vertical-align: middle;\n",
       "    }\n",
       "\n",
       "    .dataframe tbody tr th {\n",
       "        vertical-align: top;\n",
       "    }\n",
       "\n",
       "    .dataframe thead th {\n",
       "        text-align: right;\n",
       "    }\n",
       "</style>\n",
       "<table border=\"1\" class=\"dataframe\">\n",
       "  <thead>\n",
       "    <tr style=\"text-align: right;\">\n",
       "      <th></th>\n",
       "      <th>Apellido</th>\n",
       "      <th>Nombre</th>\n",
       "      <th>Contacto</th>\n",
       "      <th>Contacto 2</th>\n",
       "      <th>Tag</th>\n",
       "      <th>isemail</th>\n",
       "    </tr>\n",
       "  </thead>\n",
       "  <tbody>\n",
       "    <tr>\n",
       "      <th>3984</th>\n",
       "      <td>Portabales</td>\n",
       "      <td>Maria</td>\n",
       "      <td>mcportabales@gmail.com</td>\n",
       "      <td>NaN</td>\n",
       "      <td>\"Semana de Gobierno Abierto\",\"OSC\"</td>\n",
       "      <td>True</td>\n",
       "    </tr>\n",
       "    <tr>\n",
       "      <th>3986</th>\n",
       "      <td>Medina</td>\n",
       "      <td>Diana</td>\n",
       "      <td>dianamedinaglez@gmail.com</td>\n",
       "      <td>NaN</td>\n",
       "      <td>\"Semana de Gobierno Abierto\",\"Academia\"</td>\n",
       "      <td>True</td>\n",
       "    </tr>\n",
       "    <tr>\n",
       "      <th>3990</th>\n",
       "      <td>Ruiz Martinez</td>\n",
       "      <td>Victoria</td>\n",
       "      <td>victoriaruizma@gmail.com</td>\n",
       "      <td>NaN</td>\n",
       "      <td>\"Estudiantes universitarios\"</td>\n",
       "      <td>True</td>\n",
       "    </tr>\n",
       "  </tbody>\n",
       "</table>\n",
       "</div>"
      ],
      "text/plain": [
       "           Apellido    Nombre                   Contacto Contacto 2  \\\n",
       "3984     Portabales     Maria     mcportabales@gmail.com        NaN   \n",
       "3986         Medina     Diana  dianamedinaglez@gmail.com        NaN   \n",
       "3990  Ruiz Martinez  Victoria   victoriaruizma@gmail.com        NaN   \n",
       "\n",
       "                                          Tag  isemail  \n",
       "3984       \"Semana de Gobierno Abierto\",\"OSC\"     True  \n",
       "3986  \"Semana de Gobierno Abierto\",\"Academia\"     True  \n",
       "3990             \"Estudiantes universitarios\"     True  "
      ]
     },
     "execution_count": 41,
     "metadata": {},
     "output_type": "execute_result"
    }
   ],
   "source": [
    "base_final.tail(3)"
   ]
  }
 ],
 "metadata": {
  "kernelspec": {
   "display_name": "Python 3",
   "language": "python",
   "name": "python3"
  },
  "language_info": {
   "codemirror_mode": {
    "name": "ipython",
    "version": 3
   },
   "file_extension": ".py",
   "mimetype": "text/x-python",
   "name": "python",
   "nbconvert_exporter": "python",
   "pygments_lexer": "ipython3",
   "version": "3.7.6"
  }
 },
 "nbformat": 4,
 "nbformat_minor": 4
}
